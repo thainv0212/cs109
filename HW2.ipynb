{
 "cells": [
  {
   "cell_type": "markdown",
   "metadata": {},
   "source": [
    "# Homework 2: More Exploratory Data Analysis\n",
    "## Gene Expression Data and Election Polls \n",
    "\n",
    "Due: Thursday, October 2, 2014 11:59 PM\n",
    "\n",
    "<a href=https://raw.githubusercontent.com/cs109/2014/master/homework/HW2.ipynb download=HW2.ipynb> Download this assignment</a>\n",
    "\n",
    "#### Submission Instructions\n",
    "To submit your homework, create a folder named lastname_firstinitial_hw# and place your IPython notebooks, data files, and any other files in this folder. Your IPython Notebooks should be completely executed with the results visible in the notebook. We should not have to run any code. Compress the folder (please use .zip compression) and submit to the CS109 dropbox in the appropriate folder. If we cannot access your work because these directions are not followed correctly, we will not grade your work.\n",
    "\n",
    "\n",
    "---"
   ]
  },
  {
   "cell_type": "markdown",
   "metadata": {},
   "source": [
    "## Introduction\n",
    "\n",
    "John Tukey wrote in [Exploratory Data Analysis, 1977](http://www.amazon.com/Exploratory-Data-Analysis-Wilder-Tukey/dp/0201076160/ref=pd_bbs_sr_2/103-4466654-5303007?ie=UTF8&s=books&qid=1189739816&sr=8-2): \"The greatest value of a picture is when it forces us to notice what we never expected to see.\" In this assignment we will continue using our exploratory data analysis tools, but apply it to new sets of data: [gene expression](http://en.wikipedia.org/wiki/Gene_expression) and polls from the [2012 Presidental Election](http://en.wikipedia.org/wiki/United_States_presidential_election,_2012) and from the [2014 Senate Midterm Elections](http://en.wikipedia.org/wiki/United_States_Senate_elections,_2014).   \n",
    "\n",
    "**First**: You will use exploratory data analysis and apply the [singular value decomposition](http://en.wikipedia.org/wiki/Singular_value_decomposition) (SVD) to a gene expression data matrix to determine if the the date that the gene expression samples are processed has large effect on the variability seen in the data.  \n",
    "\n",
    "**Second**: You will use the polls from the 2012 Presidential Elections to determine (1) Is there a pollster bias in presidential election polls? and (2) Is the average of polls better than just one poll?\n",
    "\n",
    "**Finally**: You will use the [HuffPost Pollster API](http://elections.huffingtonpost.com/pollster/api) to extract the polls for the current 2014 Senate Midterm Elections and provide a preliminary prediction of the result of each state.\n",
    "\n",
    "#### Data\n",
    "\n",
    "We will use the following data sets: \n",
    "\n",
    "1. A gene expression data set called `exprs_GSE5859.csv` and sample annotation table called `sampleinfo_GSE5859.csv` which are both available on Github in the 2014_data repository: [expression data set](https://github.com/cs109/2014_data/blob/master/exprs_GSE5859.csv) and [sample annotation table](https://github.com/cs109/2014_data/blob/master/sampleinfo_GSE5859.csv).  \n",
    "\n",
    "2. Polls from the [2012 Presidential Election: Barack Obama vs Mitt Romney](http://elections.huffingtonpost.com/pollster/2012-general-election-romney-vs-obama). The polls we will use are from the [Huffington Post Pollster](http://elections.huffingtonpost.com/pollster).  \n",
    "\n",
    "3. Polls from the [2014 Senate Midterm Elections](http://elections.huffingtonpost.com/pollster) from the [HuffPost Pollster API](http://elections.huffingtonpost.com/pollster/api). \n",
    "\n",
    "---"
   ]
  },
  {
   "cell_type": "markdown",
   "metadata": {},
   "source": [
    "## Load Python modules"
   ]
  },
  {
   "cell_type": "code",
   "execution_count": 3,
   "metadata": {},
   "outputs": [],
   "source": [
    "# special IPython command to prepare the notebook for matplotlib\n",
    "%matplotlib inline \n",
    "\n",
    "import requests \n",
    "from StringIO import StringIO\n",
    "import numpy as np\n",
    "import pandas as pd # pandas\n",
    "import matplotlib.pyplot as plt # module for plotting \n",
    "import datetime as dt # module for manipulating dates and times\n",
    "import numpy.linalg as lin # module for performing linear algebra operations"
   ]
  },
  {
   "cell_type": "markdown",
   "metadata": {},
   "source": [
    "## Problem 1\n",
    "\n",
    "In this problem we will be using a [gene expression](http://en.wikipedia.org/wiki/Gene_expression) data set obtained from a [microarray](http://en.wikipedia.org/wiki/DNA_microarray) experiement [Read more about the specific experiment here](http://www.ncbi.nlm.nih.gov/geo/query/acc.cgi?acc=GSE5859).  There are two data sets we will use:  \n",
    "\n",
    "1. The gene expression intensities where the rows represent the features on the microarray (e.g. genes) and the columsns represent the different microarray samples.  \n",
    "\n",
    "2. A table that contains the information about each of the samples (columns in the gene expression data set) such as the sex, the age, the treatment status, the date the samples were processed.  Each row represents one sample. "
   ]
  },
  {
   "cell_type": "markdown",
   "metadata": {},
   "source": [
    "#### Problem 1(a) \n",
    "Read in the two files from Github: [exprs_GSE5859.csv](https://github.com/cs109/2014_data/blob/master/exprs_GSE5859.csv) and [sampleinfo_GSE5859.csv](https://github.com/cs109/2014_data/blob/master/sampleinfo_GSE5859.csv) as pandas DataFrames called `exprs` and `sampleinfo`. Use the gene names as the index of the `exprs` DataFrame."
   ]
  },
  {
   "cell_type": "code",
   "execution_count": 5,
   "metadata": {},
   "outputs": [
    {
     "data": {
      "text/html": [
       "<div>\n",
       "<style scoped>\n",
       "    .dataframe tbody tr th:only-of-type {\n",
       "        vertical-align: middle;\n",
       "    }\n",
       "\n",
       "    .dataframe tbody tr th {\n",
       "        vertical-align: top;\n",
       "    }\n",
       "\n",
       "    .dataframe thead th {\n",
       "        text-align: right;\n",
       "    }\n",
       "</style>\n",
       "<table border=\"1\" class=\"dataframe\">\n",
       "  <thead>\n",
       "    <tr style=\"text-align: right;\">\n",
       "      <th></th>\n",
       "      <th>GSM25349.CEL.gz</th>\n",
       "      <th>GSM25350.CEL.gz</th>\n",
       "      <th>GSM25356.CEL.gz</th>\n",
       "      <th>GSM25357.CEL.gz</th>\n",
       "      <th>GSM25358.CEL.gz</th>\n",
       "      <th>GSM25359.CEL.gz</th>\n",
       "      <th>GSM25360.CEL.gz</th>\n",
       "      <th>GSM25361.CEL.gz</th>\n",
       "      <th>GSM25377.CEL.gz</th>\n",
       "      <th>GSM25378.CEL.gz</th>\n",
       "      <th>...</th>\n",
       "      <th>GSM136719.CEL.gz</th>\n",
       "      <th>GSM136720.CEL.gz</th>\n",
       "      <th>GSM136721.CEL.gz</th>\n",
       "      <th>GSM136722.CEL.gz</th>\n",
       "      <th>GSM136723.CEL.gz</th>\n",
       "      <th>GSM136724.CEL.gz</th>\n",
       "      <th>GSM136725.CEL.gz</th>\n",
       "      <th>GSM136726.CEL.gz</th>\n",
       "      <th>GSM136727.CEL.gz</th>\n",
       "      <th>GSM136729.CEL.gz</th>\n",
       "    </tr>\n",
       "    <tr>\n",
       "      <th>Unnamed: 0</th>\n",
       "      <th></th>\n",
       "      <th></th>\n",
       "      <th></th>\n",
       "      <th></th>\n",
       "      <th></th>\n",
       "      <th></th>\n",
       "      <th></th>\n",
       "      <th></th>\n",
       "      <th></th>\n",
       "      <th></th>\n",
       "      <th></th>\n",
       "      <th></th>\n",
       "      <th></th>\n",
       "      <th></th>\n",
       "      <th></th>\n",
       "      <th></th>\n",
       "      <th></th>\n",
       "      <th></th>\n",
       "      <th></th>\n",
       "      <th></th>\n",
       "      <th></th>\n",
       "    </tr>\n",
       "  </thead>\n",
       "  <tbody>\n",
       "    <tr>\n",
       "      <th>1007_s_at</th>\n",
       "      <td>6.627014</td>\n",
       "      <td>6.249807</td>\n",
       "      <td>5.934128</td>\n",
       "      <td>6.145268</td>\n",
       "      <td>6.091270</td>\n",
       "      <td>6.041186</td>\n",
       "      <td>6.050375</td>\n",
       "      <td>6.063847</td>\n",
       "      <td>6.226106</td>\n",
       "      <td>6.358282</td>\n",
       "      <td>...</td>\n",
       "      <td>6.466445</td>\n",
       "      <td>6.533592</td>\n",
       "      <td>6.631492</td>\n",
       "      <td>6.513362</td>\n",
       "      <td>6.440706</td>\n",
       "      <td>6.704324</td>\n",
       "      <td>6.488579</td>\n",
       "      <td>6.809481</td>\n",
       "      <td>6.133068</td>\n",
       "      <td>6.155473</td>\n",
       "    </tr>\n",
       "    <tr>\n",
       "      <th>1053_at</th>\n",
       "      <td>6.939184</td>\n",
       "      <td>6.818038</td>\n",
       "      <td>7.047962</td>\n",
       "      <td>7.422477</td>\n",
       "      <td>7.272361</td>\n",
       "      <td>7.128216</td>\n",
       "      <td>6.750719</td>\n",
       "      <td>6.836287</td>\n",
       "      <td>6.738022</td>\n",
       "      <td>7.367895</td>\n",
       "      <td>...</td>\n",
       "      <td>7.032885</td>\n",
       "      <td>7.156344</td>\n",
       "      <td>7.018025</td>\n",
       "      <td>6.973322</td>\n",
       "      <td>6.884738</td>\n",
       "      <td>7.120898</td>\n",
       "      <td>7.517410</td>\n",
       "      <td>7.200596</td>\n",
       "      <td>7.280781</td>\n",
       "      <td>7.111583</td>\n",
       "    </tr>\n",
       "    <tr>\n",
       "      <th>117_at</th>\n",
       "      <td>5.113570</td>\n",
       "      <td>5.074096</td>\n",
       "      <td>5.371201</td>\n",
       "      <td>5.266550</td>\n",
       "      <td>5.342047</td>\n",
       "      <td>5.063876</td>\n",
       "      <td>5.315898</td>\n",
       "      <td>5.483652</td>\n",
       "      <td>6.689444</td>\n",
       "      <td>6.482782</td>\n",
       "      <td>...</td>\n",
       "      <td>5.661112</td>\n",
       "      <td>5.127260</td>\n",
       "      <td>5.151840</td>\n",
       "      <td>5.505602</td>\n",
       "      <td>5.687689</td>\n",
       "      <td>4.942651</td>\n",
       "      <td>5.247190</td>\n",
       "      <td>5.237239</td>\n",
       "      <td>5.401876</td>\n",
       "      <td>5.302628</td>\n",
       "    </tr>\n",
       "    <tr>\n",
       "      <th>121_at</th>\n",
       "      <td>7.833862</td>\n",
       "      <td>7.780682</td>\n",
       "      <td>7.458197</td>\n",
       "      <td>7.655948</td>\n",
       "      <td>7.546555</td>\n",
       "      <td>7.072670</td>\n",
       "      <td>7.092984</td>\n",
       "      <td>6.954225</td>\n",
       "      <td>7.489785</td>\n",
       "      <td>7.388539</td>\n",
       "      <td>...</td>\n",
       "      <td>7.769734</td>\n",
       "      <td>7.815864</td>\n",
       "      <td>7.683279</td>\n",
       "      <td>7.883231</td>\n",
       "      <td>7.913621</td>\n",
       "      <td>7.834196</td>\n",
       "      <td>7.331864</td>\n",
       "      <td>7.357102</td>\n",
       "      <td>7.607461</td>\n",
       "      <td>7.456453</td>\n",
       "    </tr>\n",
       "    <tr>\n",
       "      <th>1255_g_at</th>\n",
       "      <td>3.152269</td>\n",
       "      <td>3.111747</td>\n",
       "      <td>3.018932</td>\n",
       "      <td>3.154545</td>\n",
       "      <td>3.107954</td>\n",
       "      <td>3.224284</td>\n",
       "      <td>3.114241</td>\n",
       "      <td>3.044975</td>\n",
       "      <td>3.304038</td>\n",
       "      <td>2.887919</td>\n",
       "      <td>...</td>\n",
       "      <td>3.257484</td>\n",
       "      <td>3.339234</td>\n",
       "      <td>3.298384</td>\n",
       "      <td>3.150654</td>\n",
       "      <td>3.344501</td>\n",
       "      <td>3.230285</td>\n",
       "      <td>3.175846</td>\n",
       "      <td>3.105092</td>\n",
       "      <td>3.225123</td>\n",
       "      <td>3.090149</td>\n",
       "    </tr>\n",
       "  </tbody>\n",
       "</table>\n",
       "<p>5 rows × 208 columns</p>\n",
       "</div>"
      ],
      "text/plain": [
       "            GSM25349.CEL.gz  GSM25350.CEL.gz  GSM25356.CEL.gz  \\\n",
       "Unnamed: 0                                                      \n",
       "1007_s_at          6.627014         6.249807         5.934128   \n",
       "1053_at            6.939184         6.818038         7.047962   \n",
       "117_at             5.113570         5.074096         5.371201   \n",
       "121_at             7.833862         7.780682         7.458197   \n",
       "1255_g_at          3.152269         3.111747         3.018932   \n",
       "\n",
       "            GSM25357.CEL.gz  GSM25358.CEL.gz  GSM25359.CEL.gz  \\\n",
       "Unnamed: 0                                                      \n",
       "1007_s_at          6.145268         6.091270         6.041186   \n",
       "1053_at            7.422477         7.272361         7.128216   \n",
       "117_at             5.266550         5.342047         5.063876   \n",
       "121_at             7.655948         7.546555         7.072670   \n",
       "1255_g_at          3.154545         3.107954         3.224284   \n",
       "\n",
       "            GSM25360.CEL.gz  GSM25361.CEL.gz  GSM25377.CEL.gz  \\\n",
       "Unnamed: 0                                                      \n",
       "1007_s_at          6.050375         6.063847         6.226106   \n",
       "1053_at            6.750719         6.836287         6.738022   \n",
       "117_at             5.315898         5.483652         6.689444   \n",
       "121_at             7.092984         6.954225         7.489785   \n",
       "1255_g_at          3.114241         3.044975         3.304038   \n",
       "\n",
       "            GSM25378.CEL.gz        ...         GSM136719.CEL.gz  \\\n",
       "Unnamed: 0                         ...                            \n",
       "1007_s_at          6.358282        ...                 6.466445   \n",
       "1053_at            7.367895        ...                 7.032885   \n",
       "117_at             6.482782        ...                 5.661112   \n",
       "121_at             7.388539        ...                 7.769734   \n",
       "1255_g_at          2.887919        ...                 3.257484   \n",
       "\n",
       "            GSM136720.CEL.gz  GSM136721.CEL.gz  GSM136722.CEL.gz  \\\n",
       "Unnamed: 0                                                         \n",
       "1007_s_at           6.533592          6.631492          6.513362   \n",
       "1053_at             7.156344          7.018025          6.973322   \n",
       "117_at              5.127260          5.151840          5.505602   \n",
       "121_at              7.815864          7.683279          7.883231   \n",
       "1255_g_at           3.339234          3.298384          3.150654   \n",
       "\n",
       "            GSM136723.CEL.gz  GSM136724.CEL.gz  GSM136725.CEL.gz  \\\n",
       "Unnamed: 0                                                         \n",
       "1007_s_at           6.440706          6.704324          6.488579   \n",
       "1053_at             6.884738          7.120898          7.517410   \n",
       "117_at              5.687689          4.942651          5.247190   \n",
       "121_at              7.913621          7.834196          7.331864   \n",
       "1255_g_at           3.344501          3.230285          3.175846   \n",
       "\n",
       "            GSM136726.CEL.gz  GSM136727.CEL.gz  GSM136729.CEL.gz  \n",
       "Unnamed: 0                                                        \n",
       "1007_s_at           6.809481          6.133068          6.155473  \n",
       "1053_at             7.200596          7.280781          7.111583  \n",
       "117_at              5.237239          5.401876          5.302628  \n",
       "121_at              7.357102          7.607461          7.456453  \n",
       "1255_g_at           3.105092          3.225123          3.090149  \n",
       "\n",
       "[5 rows x 208 columns]"
      ]
     },
     "execution_count": 5,
     "metadata": {},
     "output_type": "execute_result"
    }
   ],
   "source": [
    "#your code here\n",
    "exprs = pd.read_csv('exprs_GSE5859.csv')\n",
    "sampleinfo = pd.read_csv('sampleinfo_GSE5859.csv')\n",
    "sampleinfo.head()\n",
    "\n",
    "exprs.head()\n",
    "exprs.set_index('Unnamed: 0', inplace=True)\n",
    "columns = sampleinfo['filename'].values.tolist()\n",
    "exprs = exprs[columns]\n",
    "exprs.head()"
   ]
  },
  {
   "cell_type": "markdown",
   "metadata": {},
   "source": [
    "Make sure the order of the columns in the gene expression DataFrame match the order of file names in the sample annotation DataFrame. If the order of the columns the `exprs` DataFrame do not match the order of the file names in the `sampleinfo` DataFrame, reorder the columns in the `exprs` DataFrame. \n",
    "\n",
    "**Note**: The column names of the gene expression DataFrame are the filenames of the orignal files from which these data were obtained.  \n",
    "\n",
    "**Hint**: The method `list.index(x)` [[read here](https://docs.python.org/2/tutorial/datastructures.html)] can be used to return the index in the list of the first item whose value is x. It is an error if there is no such item. To check if the order of the columns in `exprs` matches the order of the rows in `sampleinfo`, you can check using the method `.all()` on a Boolean or list of Booleans: \n",
    "\n",
    "Example code: `(exprs.columns == sampleinfo.filename).all()`"
   ]
  },
  {
   "cell_type": "code",
   "execution_count": 6,
   "metadata": {
    "scrolled": true
   },
   "outputs": [
    {
     "data": {
      "text/html": [
       "<div>\n",
       "<style scoped>\n",
       "    .dataframe tbody tr th:only-of-type {\n",
       "        vertical-align: middle;\n",
       "    }\n",
       "\n",
       "    .dataframe tbody tr th {\n",
       "        vertical-align: top;\n",
       "    }\n",
       "\n",
       "    .dataframe thead th {\n",
       "        text-align: right;\n",
       "    }\n",
       "</style>\n",
       "<table border=\"1\" class=\"dataframe\">\n",
       "  <thead>\n",
       "    <tr style=\"text-align: right;\">\n",
       "      <th></th>\n",
       "      <th>ethnicity</th>\n",
       "      <th>date</th>\n",
       "      <th>filename</th>\n",
       "      <th>sex</th>\n",
       "    </tr>\n",
       "  </thead>\n",
       "  <tbody>\n",
       "    <tr>\n",
       "      <th>0</th>\n",
       "      <td>CEU</td>\n",
       "      <td>2003-02-04</td>\n",
       "      <td>GSM25349.CEL.gz</td>\n",
       "      <td>M</td>\n",
       "    </tr>\n",
       "    <tr>\n",
       "      <th>1</th>\n",
       "      <td>CEU</td>\n",
       "      <td>2003-02-04</td>\n",
       "      <td>GSM25350.CEL.gz</td>\n",
       "      <td>M</td>\n",
       "    </tr>\n",
       "    <tr>\n",
       "      <th>2</th>\n",
       "      <td>CEU</td>\n",
       "      <td>2002-12-17</td>\n",
       "      <td>GSM25356.CEL.gz</td>\n",
       "      <td>M</td>\n",
       "    </tr>\n",
       "    <tr>\n",
       "      <th>3</th>\n",
       "      <td>CEU</td>\n",
       "      <td>2003-01-30</td>\n",
       "      <td>GSM25357.CEL.gz</td>\n",
       "      <td>M</td>\n",
       "    </tr>\n",
       "    <tr>\n",
       "      <th>4</th>\n",
       "      <td>CEU</td>\n",
       "      <td>2003-01-03</td>\n",
       "      <td>GSM25358.CEL.gz</td>\n",
       "      <td>M</td>\n",
       "    </tr>\n",
       "  </tbody>\n",
       "</table>\n",
       "</div>"
      ],
      "text/plain": [
       "  ethnicity        date         filename sex\n",
       "0       CEU  2003-02-04  GSM25349.CEL.gz   M\n",
       "1       CEU  2003-02-04  GSM25350.CEL.gz   M\n",
       "2       CEU  2002-12-17  GSM25356.CEL.gz   M\n",
       "3       CEU  2003-01-30  GSM25357.CEL.gz   M\n",
       "4       CEU  2003-01-03  GSM25358.CEL.gz   M"
      ]
     },
     "execution_count": 6,
     "metadata": {},
     "output_type": "execute_result"
    }
   ],
   "source": [
    "#your code here\n",
    "sampleinfo.head()"
   ]
  },
  {
   "cell_type": "markdown",
   "metadata": {},
   "source": [
    "Show the head of the two tables: `exprs` and `sampleinfo`. "
   ]
  },
  {
   "cell_type": "code",
   "execution_count": 7,
   "metadata": {},
   "outputs": [
    {
     "data": {
      "text/html": [
       "<div>\n",
       "<style scoped>\n",
       "    .dataframe tbody tr th:only-of-type {\n",
       "        vertical-align: middle;\n",
       "    }\n",
       "\n",
       "    .dataframe tbody tr th {\n",
       "        vertical-align: top;\n",
       "    }\n",
       "\n",
       "    .dataframe thead th {\n",
       "        text-align: right;\n",
       "    }\n",
       "</style>\n",
       "<table border=\"1\" class=\"dataframe\">\n",
       "  <thead>\n",
       "    <tr style=\"text-align: right;\">\n",
       "      <th></th>\n",
       "      <th>GSM25349.CEL.gz</th>\n",
       "      <th>GSM25350.CEL.gz</th>\n",
       "      <th>GSM25356.CEL.gz</th>\n",
       "      <th>GSM25357.CEL.gz</th>\n",
       "      <th>GSM25358.CEL.gz</th>\n",
       "      <th>GSM25359.CEL.gz</th>\n",
       "      <th>GSM25360.CEL.gz</th>\n",
       "      <th>GSM25361.CEL.gz</th>\n",
       "      <th>GSM25377.CEL.gz</th>\n",
       "      <th>GSM25378.CEL.gz</th>\n",
       "      <th>...</th>\n",
       "      <th>GSM136719.CEL.gz</th>\n",
       "      <th>GSM136720.CEL.gz</th>\n",
       "      <th>GSM136721.CEL.gz</th>\n",
       "      <th>GSM136722.CEL.gz</th>\n",
       "      <th>GSM136723.CEL.gz</th>\n",
       "      <th>GSM136724.CEL.gz</th>\n",
       "      <th>GSM136725.CEL.gz</th>\n",
       "      <th>GSM136726.CEL.gz</th>\n",
       "      <th>GSM136727.CEL.gz</th>\n",
       "      <th>GSM136729.CEL.gz</th>\n",
       "    </tr>\n",
       "    <tr>\n",
       "      <th>Unnamed: 0</th>\n",
       "      <th></th>\n",
       "      <th></th>\n",
       "      <th></th>\n",
       "      <th></th>\n",
       "      <th></th>\n",
       "      <th></th>\n",
       "      <th></th>\n",
       "      <th></th>\n",
       "      <th></th>\n",
       "      <th></th>\n",
       "      <th></th>\n",
       "      <th></th>\n",
       "      <th></th>\n",
       "      <th></th>\n",
       "      <th></th>\n",
       "      <th></th>\n",
       "      <th></th>\n",
       "      <th></th>\n",
       "      <th></th>\n",
       "      <th></th>\n",
       "      <th></th>\n",
       "    </tr>\n",
       "  </thead>\n",
       "  <tbody>\n",
       "    <tr>\n",
       "      <th>1007_s_at</th>\n",
       "      <td>6.627014</td>\n",
       "      <td>6.249807</td>\n",
       "      <td>5.934128</td>\n",
       "      <td>6.145268</td>\n",
       "      <td>6.091270</td>\n",
       "      <td>6.041186</td>\n",
       "      <td>6.050375</td>\n",
       "      <td>6.063847</td>\n",
       "      <td>6.226106</td>\n",
       "      <td>6.358282</td>\n",
       "      <td>...</td>\n",
       "      <td>6.466445</td>\n",
       "      <td>6.533592</td>\n",
       "      <td>6.631492</td>\n",
       "      <td>6.513362</td>\n",
       "      <td>6.440706</td>\n",
       "      <td>6.704324</td>\n",
       "      <td>6.488579</td>\n",
       "      <td>6.809481</td>\n",
       "      <td>6.133068</td>\n",
       "      <td>6.155473</td>\n",
       "    </tr>\n",
       "    <tr>\n",
       "      <th>1053_at</th>\n",
       "      <td>6.939184</td>\n",
       "      <td>6.818038</td>\n",
       "      <td>7.047962</td>\n",
       "      <td>7.422477</td>\n",
       "      <td>7.272361</td>\n",
       "      <td>7.128216</td>\n",
       "      <td>6.750719</td>\n",
       "      <td>6.836287</td>\n",
       "      <td>6.738022</td>\n",
       "      <td>7.367895</td>\n",
       "      <td>...</td>\n",
       "      <td>7.032885</td>\n",
       "      <td>7.156344</td>\n",
       "      <td>7.018025</td>\n",
       "      <td>6.973322</td>\n",
       "      <td>6.884738</td>\n",
       "      <td>7.120898</td>\n",
       "      <td>7.517410</td>\n",
       "      <td>7.200596</td>\n",
       "      <td>7.280781</td>\n",
       "      <td>7.111583</td>\n",
       "    </tr>\n",
       "    <tr>\n",
       "      <th>117_at</th>\n",
       "      <td>5.113570</td>\n",
       "      <td>5.074096</td>\n",
       "      <td>5.371201</td>\n",
       "      <td>5.266550</td>\n",
       "      <td>5.342047</td>\n",
       "      <td>5.063876</td>\n",
       "      <td>5.315898</td>\n",
       "      <td>5.483652</td>\n",
       "      <td>6.689444</td>\n",
       "      <td>6.482782</td>\n",
       "      <td>...</td>\n",
       "      <td>5.661112</td>\n",
       "      <td>5.127260</td>\n",
       "      <td>5.151840</td>\n",
       "      <td>5.505602</td>\n",
       "      <td>5.687689</td>\n",
       "      <td>4.942651</td>\n",
       "      <td>5.247190</td>\n",
       "      <td>5.237239</td>\n",
       "      <td>5.401876</td>\n",
       "      <td>5.302628</td>\n",
       "    </tr>\n",
       "    <tr>\n",
       "      <th>121_at</th>\n",
       "      <td>7.833862</td>\n",
       "      <td>7.780682</td>\n",
       "      <td>7.458197</td>\n",
       "      <td>7.655948</td>\n",
       "      <td>7.546555</td>\n",
       "      <td>7.072670</td>\n",
       "      <td>7.092984</td>\n",
       "      <td>6.954225</td>\n",
       "      <td>7.489785</td>\n",
       "      <td>7.388539</td>\n",
       "      <td>...</td>\n",
       "      <td>7.769734</td>\n",
       "      <td>7.815864</td>\n",
       "      <td>7.683279</td>\n",
       "      <td>7.883231</td>\n",
       "      <td>7.913621</td>\n",
       "      <td>7.834196</td>\n",
       "      <td>7.331864</td>\n",
       "      <td>7.357102</td>\n",
       "      <td>7.607461</td>\n",
       "      <td>7.456453</td>\n",
       "    </tr>\n",
       "    <tr>\n",
       "      <th>1255_g_at</th>\n",
       "      <td>3.152269</td>\n",
       "      <td>3.111747</td>\n",
       "      <td>3.018932</td>\n",
       "      <td>3.154545</td>\n",
       "      <td>3.107954</td>\n",
       "      <td>3.224284</td>\n",
       "      <td>3.114241</td>\n",
       "      <td>3.044975</td>\n",
       "      <td>3.304038</td>\n",
       "      <td>2.887919</td>\n",
       "      <td>...</td>\n",
       "      <td>3.257484</td>\n",
       "      <td>3.339234</td>\n",
       "      <td>3.298384</td>\n",
       "      <td>3.150654</td>\n",
       "      <td>3.344501</td>\n",
       "      <td>3.230285</td>\n",
       "      <td>3.175846</td>\n",
       "      <td>3.105092</td>\n",
       "      <td>3.225123</td>\n",
       "      <td>3.090149</td>\n",
       "    </tr>\n",
       "  </tbody>\n",
       "</table>\n",
       "<p>5 rows × 208 columns</p>\n",
       "</div>"
      ],
      "text/plain": [
       "            GSM25349.CEL.gz  GSM25350.CEL.gz  GSM25356.CEL.gz  \\\n",
       "Unnamed: 0                                                      \n",
       "1007_s_at          6.627014         6.249807         5.934128   \n",
       "1053_at            6.939184         6.818038         7.047962   \n",
       "117_at             5.113570         5.074096         5.371201   \n",
       "121_at             7.833862         7.780682         7.458197   \n",
       "1255_g_at          3.152269         3.111747         3.018932   \n",
       "\n",
       "            GSM25357.CEL.gz  GSM25358.CEL.gz  GSM25359.CEL.gz  \\\n",
       "Unnamed: 0                                                      \n",
       "1007_s_at          6.145268         6.091270         6.041186   \n",
       "1053_at            7.422477         7.272361         7.128216   \n",
       "117_at             5.266550         5.342047         5.063876   \n",
       "121_at             7.655948         7.546555         7.072670   \n",
       "1255_g_at          3.154545         3.107954         3.224284   \n",
       "\n",
       "            GSM25360.CEL.gz  GSM25361.CEL.gz  GSM25377.CEL.gz  \\\n",
       "Unnamed: 0                                                      \n",
       "1007_s_at          6.050375         6.063847         6.226106   \n",
       "1053_at            6.750719         6.836287         6.738022   \n",
       "117_at             5.315898         5.483652         6.689444   \n",
       "121_at             7.092984         6.954225         7.489785   \n",
       "1255_g_at          3.114241         3.044975         3.304038   \n",
       "\n",
       "            GSM25378.CEL.gz        ...         GSM136719.CEL.gz  \\\n",
       "Unnamed: 0                         ...                            \n",
       "1007_s_at          6.358282        ...                 6.466445   \n",
       "1053_at            7.367895        ...                 7.032885   \n",
       "117_at             6.482782        ...                 5.661112   \n",
       "121_at             7.388539        ...                 7.769734   \n",
       "1255_g_at          2.887919        ...                 3.257484   \n",
       "\n",
       "            GSM136720.CEL.gz  GSM136721.CEL.gz  GSM136722.CEL.gz  \\\n",
       "Unnamed: 0                                                         \n",
       "1007_s_at           6.533592          6.631492          6.513362   \n",
       "1053_at             7.156344          7.018025          6.973322   \n",
       "117_at              5.127260          5.151840          5.505602   \n",
       "121_at              7.815864          7.683279          7.883231   \n",
       "1255_g_at           3.339234          3.298384          3.150654   \n",
       "\n",
       "            GSM136723.CEL.gz  GSM136724.CEL.gz  GSM136725.CEL.gz  \\\n",
       "Unnamed: 0                                                         \n",
       "1007_s_at           6.440706          6.704324          6.488579   \n",
       "1053_at             6.884738          7.120898          7.517410   \n",
       "117_at              5.687689          4.942651          5.247190   \n",
       "121_at              7.913621          7.834196          7.331864   \n",
       "1255_g_at           3.344501          3.230285          3.175846   \n",
       "\n",
       "            GSM136726.CEL.gz  GSM136727.CEL.gz  GSM136729.CEL.gz  \n",
       "Unnamed: 0                                                        \n",
       "1007_s_at           6.809481          6.133068          6.155473  \n",
       "1053_at             7.200596          7.280781          7.111583  \n",
       "117_at              5.237239          5.401876          5.302628  \n",
       "121_at              7.357102          7.607461          7.456453  \n",
       "1255_g_at           3.105092          3.225123          3.090149  \n",
       "\n",
       "[5 rows x 208 columns]"
      ]
     },
     "execution_count": 7,
     "metadata": {},
     "output_type": "execute_result"
    }
   ],
   "source": [
    "#your code here\n",
    "exprs.head()"
   ]
  },
  {
   "cell_type": "markdown",
   "metadata": {},
   "source": [
    "#### Problem 1(b)\n",
    "\n",
    "Extract the year and month as integers from the `sampleinfo` table. \n",
    "\n",
    "**Hint**: To convert a Series or a column of a pandas DataFrame that contains a date-like object, you can use the `to_datetime` function [[read here](http://pandas.pydata.org/pandas-docs/stable/timeseries.html)].  This will create a `DatetimeIndex` which can be used to extract the month and year for each row in the DataFrame. "
   ]
  },
  {
   "cell_type": "code",
   "execution_count": 8,
   "metadata": {},
   "outputs": [],
   "source": [
    "#your code here\n",
    "sampleinfo['date'] = pd.to_datetime(sampleinfo['date'])"
   ]
  },
  {
   "cell_type": "markdown",
   "metadata": {},
   "source": [
    "#### Problem 1(c)\n",
    "\n",
    "Convert the dates in the `date` column from the `sampleinfo` table into days since October 31, 2002. Add a column to the `sampleinfo` DataFrame titled `elapsedInDays` containing the days since October 31, 2002.  Show the head of the `sampleinfo` DataFrame which includes the new column.  \n",
    "\n",
    "**Hint**: Use the `datetime` module to create a new `datetime` object for the specific date October 31, 2002. Then, subtract the October 31, 2002 date from each date from the `date` column in the `sampleinfo` DataFrame. "
   ]
  },
  {
   "cell_type": "code",
   "execution_count": 9,
   "metadata": {},
   "outputs": [
    {
     "data": {
      "text/html": [
       "<div>\n",
       "<style scoped>\n",
       "    .dataframe tbody tr th:only-of-type {\n",
       "        vertical-align: middle;\n",
       "    }\n",
       "\n",
       "    .dataframe tbody tr th {\n",
       "        vertical-align: top;\n",
       "    }\n",
       "\n",
       "    .dataframe thead th {\n",
       "        text-align: right;\n",
       "    }\n",
       "</style>\n",
       "<table border=\"1\" class=\"dataframe\">\n",
       "  <thead>\n",
       "    <tr style=\"text-align: right;\">\n",
       "      <th></th>\n",
       "      <th>ethnicity</th>\n",
       "      <th>date</th>\n",
       "      <th>filename</th>\n",
       "      <th>sex</th>\n",
       "    </tr>\n",
       "  </thead>\n",
       "  <tbody>\n",
       "    <tr>\n",
       "      <th>0</th>\n",
       "      <td>CEU</td>\n",
       "      <td>96</td>\n",
       "      <td>GSM25349.CEL.gz</td>\n",
       "      <td>M</td>\n",
       "    </tr>\n",
       "    <tr>\n",
       "      <th>1</th>\n",
       "      <td>CEU</td>\n",
       "      <td>96</td>\n",
       "      <td>GSM25350.CEL.gz</td>\n",
       "      <td>M</td>\n",
       "    </tr>\n",
       "    <tr>\n",
       "      <th>2</th>\n",
       "      <td>CEU</td>\n",
       "      <td>47</td>\n",
       "      <td>GSM25356.CEL.gz</td>\n",
       "      <td>M</td>\n",
       "    </tr>\n",
       "    <tr>\n",
       "      <th>3</th>\n",
       "      <td>CEU</td>\n",
       "      <td>91</td>\n",
       "      <td>GSM25357.CEL.gz</td>\n",
       "      <td>M</td>\n",
       "    </tr>\n",
       "    <tr>\n",
       "      <th>4</th>\n",
       "      <td>CEU</td>\n",
       "      <td>64</td>\n",
       "      <td>GSM25358.CEL.gz</td>\n",
       "      <td>M</td>\n",
       "    </tr>\n",
       "  </tbody>\n",
       "</table>\n",
       "</div>"
      ],
      "text/plain": [
       "  ethnicity  date         filename sex\n",
       "0       CEU    96  GSM25349.CEL.gz   M\n",
       "1       CEU    96  GSM25350.CEL.gz   M\n",
       "2       CEU    47  GSM25356.CEL.gz   M\n",
       "3       CEU    91  GSM25357.CEL.gz   M\n",
       "4       CEU    64  GSM25358.CEL.gz   M"
      ]
     },
     "execution_count": 9,
     "metadata": {},
     "output_type": "execute_result"
    }
   ],
   "source": [
    "#your code here\n",
    "date = pd._libs.tslib.Timestamp('2002-10-31')\n",
    "date2 = pd._libs.tslib.Timestamp('2002-10-30')\n",
    "(date2 - date).days\n",
    "sampleinfo['date'] = sampleinfo['date'].apply(lambda x: (x - date).days)\n",
    "sampleinfo.head()"
   ]
  },
  {
   "cell_type": "markdown",
   "metadata": {},
   "source": [
    "#### Problem 1(d)\n",
    "\n",
    "Use exploratory analysis and the singular value decomposition (SVD) of the gene expression data matrix to determine if the date the samples were processed has large effect on the variability seen in the data or if it is just ethnicity (which is confounded with date). \n",
    "\n",
    "**Hint**: See the end of the [lecture from 9/23/2014 for help with SVD](http://nbviewer.ipython.org/github/cs109/2014/blob/master/lectures/lecture07/data_scraping_transcript.ipynb). \n",
    "\n",
    "First subset the the `sampleinfo` DataFrame to include only the CEU ethnicity.  Call this new subsetted DataFrame `sampleinfoCEU`.  Show the head of `sampleinfoCEU` DataFrame. "
   ]
  },
  {
   "cell_type": "code",
   "execution_count": 10,
   "metadata": {},
   "outputs": [
    {
     "data": {
      "text/html": [
       "<div>\n",
       "<style scoped>\n",
       "    .dataframe tbody tr th:only-of-type {\n",
       "        vertical-align: middle;\n",
       "    }\n",
       "\n",
       "    .dataframe tbody tr th {\n",
       "        vertical-align: top;\n",
       "    }\n",
       "\n",
       "    .dataframe thead th {\n",
       "        text-align: right;\n",
       "    }\n",
       "</style>\n",
       "<table border=\"1\" class=\"dataframe\">\n",
       "  <thead>\n",
       "    <tr style=\"text-align: right;\">\n",
       "      <th></th>\n",
       "      <th>ethnicity</th>\n",
       "      <th>date</th>\n",
       "      <th>filename</th>\n",
       "      <th>sex</th>\n",
       "    </tr>\n",
       "  </thead>\n",
       "  <tbody>\n",
       "    <tr>\n",
       "      <th>0</th>\n",
       "      <td>CEU</td>\n",
       "      <td>96</td>\n",
       "      <td>GSM25349.CEL.gz</td>\n",
       "      <td>M</td>\n",
       "    </tr>\n",
       "    <tr>\n",
       "      <th>1</th>\n",
       "      <td>CEU</td>\n",
       "      <td>96</td>\n",
       "      <td>GSM25350.CEL.gz</td>\n",
       "      <td>M</td>\n",
       "    </tr>\n",
       "    <tr>\n",
       "      <th>2</th>\n",
       "      <td>CEU</td>\n",
       "      <td>47</td>\n",
       "      <td>GSM25356.CEL.gz</td>\n",
       "      <td>M</td>\n",
       "    </tr>\n",
       "    <tr>\n",
       "      <th>3</th>\n",
       "      <td>CEU</td>\n",
       "      <td>91</td>\n",
       "      <td>GSM25357.CEL.gz</td>\n",
       "      <td>M</td>\n",
       "    </tr>\n",
       "    <tr>\n",
       "      <th>4</th>\n",
       "      <td>CEU</td>\n",
       "      <td>64</td>\n",
       "      <td>GSM25358.CEL.gz</td>\n",
       "      <td>M</td>\n",
       "    </tr>\n",
       "  </tbody>\n",
       "</table>\n",
       "</div>"
      ],
      "text/plain": [
       "  ethnicity  date         filename sex\n",
       "0       CEU    96  GSM25349.CEL.gz   M\n",
       "1       CEU    96  GSM25350.CEL.gz   M\n",
       "2       CEU    47  GSM25356.CEL.gz   M\n",
       "3       CEU    91  GSM25357.CEL.gz   M\n",
       "4       CEU    64  GSM25358.CEL.gz   M"
      ]
     },
     "execution_count": 10,
     "metadata": {},
     "output_type": "execute_result"
    }
   ],
   "source": [
    "#your code here\n",
    "sampleinfoCEU = sampleinfo[sampleinfo.ethnicity == 'CEU']\n",
    "sampleinfoCEU.head()"
   ]
  },
  {
   "cell_type": "markdown",
   "metadata": {},
   "source": [
    "Next, subset the `exprs` DataFrame to only include the samples with the CEU ethnicity. Name this new subsetted DataFrame `exprsCEU`. Show the head of the `exprsCEU` DataFrame. "
   ]
  },
  {
   "cell_type": "code",
   "execution_count": 11,
   "metadata": {},
   "outputs": [
    {
     "name": "stdout",
     "output_type": "stream",
     "text": [
      "(102, 4)\n"
     ]
    }
   ],
   "source": [
    "#your code here\n",
    "CEU_filename = sampleinfoCEU.filename.unique()\n",
    "exprsCEU = exprs[CEU_filename]\n",
    "exprsCEU.head()\n",
    "print(sampleinfoCEU.shape)"
   ]
  },
  {
   "cell_type": "markdown",
   "metadata": {},
   "source": [
    "Check to make sure the order of the columns in the `exprsCEU` DataFrame matches the rows in the `sampleinfoCEU` DataFrame.  "
   ]
  },
  {
   "cell_type": "code",
   "execution_count": 12,
   "metadata": {},
   "outputs": [
    {
     "data": {
      "text/html": [
       "<div>\n",
       "<style scoped>\n",
       "    .dataframe tbody tr th:only-of-type {\n",
       "        vertical-align: middle;\n",
       "    }\n",
       "\n",
       "    .dataframe tbody tr th {\n",
       "        vertical-align: top;\n",
       "    }\n",
       "\n",
       "    .dataframe thead th {\n",
       "        text-align: right;\n",
       "    }\n",
       "</style>\n",
       "<table border=\"1\" class=\"dataframe\">\n",
       "  <thead>\n",
       "    <tr style=\"text-align: right;\">\n",
       "      <th></th>\n",
       "      <th>GSM25349.CEL.gz</th>\n",
       "      <th>GSM25350.CEL.gz</th>\n",
       "      <th>GSM25356.CEL.gz</th>\n",
       "      <th>GSM25357.CEL.gz</th>\n",
       "      <th>GSM25358.CEL.gz</th>\n",
       "      <th>GSM25359.CEL.gz</th>\n",
       "      <th>GSM25360.CEL.gz</th>\n",
       "      <th>GSM25361.CEL.gz</th>\n",
       "      <th>GSM25377.CEL.gz</th>\n",
       "      <th>GSM25378.CEL.gz</th>\n",
       "      <th>...</th>\n",
       "      <th>GSM48658.CEL.gz</th>\n",
       "      <th>GSM48660.CEL.gz</th>\n",
       "      <th>GSM48661.CEL.gz</th>\n",
       "      <th>GSM48662.CEL.gz</th>\n",
       "      <th>GSM48663.CEL.gz</th>\n",
       "      <th>GSM48664.CEL.gz</th>\n",
       "      <th>GSM48665.CEL.gz</th>\n",
       "      <th>GSM136725.CEL.gz</th>\n",
       "      <th>GSM136726.CEL.gz</th>\n",
       "      <th>GSM136727.CEL.gz</th>\n",
       "    </tr>\n",
       "    <tr>\n",
       "      <th>Unnamed: 0</th>\n",
       "      <th></th>\n",
       "      <th></th>\n",
       "      <th></th>\n",
       "      <th></th>\n",
       "      <th></th>\n",
       "      <th></th>\n",
       "      <th></th>\n",
       "      <th></th>\n",
       "      <th></th>\n",
       "      <th></th>\n",
       "      <th></th>\n",
       "      <th></th>\n",
       "      <th></th>\n",
       "      <th></th>\n",
       "      <th></th>\n",
       "      <th></th>\n",
       "      <th></th>\n",
       "      <th></th>\n",
       "      <th></th>\n",
       "      <th></th>\n",
       "      <th></th>\n",
       "    </tr>\n",
       "  </thead>\n",
       "  <tbody>\n",
       "    <tr>\n",
       "      <th>1007_s_at</th>\n",
       "      <td>0.365059</td>\n",
       "      <td>-0.012149</td>\n",
       "      <td>-0.327827</td>\n",
       "      <td>-0.116687</td>\n",
       "      <td>-0.170685</td>\n",
       "      <td>-0.220769</td>\n",
       "      <td>-0.211580</td>\n",
       "      <td>-0.198109</td>\n",
       "      <td>-0.035849</td>\n",
       "      <td>0.096327</td>\n",
       "      <td>...</td>\n",
       "      <td>0.239554</td>\n",
       "      <td>0.296144</td>\n",
       "      <td>0.356331</td>\n",
       "      <td>0.608040</td>\n",
       "      <td>-0.280956</td>\n",
       "      <td>0.141330</td>\n",
       "      <td>-0.013254</td>\n",
       "      <td>0.226624</td>\n",
       "      <td>0.547526</td>\n",
       "      <td>-0.128887</td>\n",
       "    </tr>\n",
       "    <tr>\n",
       "      <th>1053_at</th>\n",
       "      <td>-0.136032</td>\n",
       "      <td>-0.257178</td>\n",
       "      <td>-0.027254</td>\n",
       "      <td>0.347260</td>\n",
       "      <td>0.197144</td>\n",
       "      <td>0.053000</td>\n",
       "      <td>-0.324497</td>\n",
       "      <td>-0.238930</td>\n",
       "      <td>-0.337195</td>\n",
       "      <td>0.292678</td>\n",
       "      <td>...</td>\n",
       "      <td>-0.008531</td>\n",
       "      <td>0.311485</td>\n",
       "      <td>-0.667259</td>\n",
       "      <td>0.013964</td>\n",
       "      <td>0.045706</td>\n",
       "      <td>-0.056219</td>\n",
       "      <td>0.080203</td>\n",
       "      <td>0.442193</td>\n",
       "      <td>0.125379</td>\n",
       "      <td>0.205564</td>\n",
       "    </tr>\n",
       "    <tr>\n",
       "      <th>117_at</th>\n",
       "      <td>-0.490556</td>\n",
       "      <td>-0.530031</td>\n",
       "      <td>-0.232926</td>\n",
       "      <td>-0.337577</td>\n",
       "      <td>-0.262080</td>\n",
       "      <td>-0.540250</td>\n",
       "      <td>-0.288228</td>\n",
       "      <td>-0.120475</td>\n",
       "      <td>1.085317</td>\n",
       "      <td>0.878655</td>\n",
       "      <td>...</td>\n",
       "      <td>-0.003613</td>\n",
       "      <td>-0.371451</td>\n",
       "      <td>0.026594</td>\n",
       "      <td>-0.659379</td>\n",
       "      <td>-0.328549</td>\n",
       "      <td>0.166231</td>\n",
       "      <td>0.012716</td>\n",
       "      <td>-0.356936</td>\n",
       "      <td>-0.366887</td>\n",
       "      <td>-0.202251</td>\n",
       "    </tr>\n",
       "    <tr>\n",
       "      <th>121_at</th>\n",
       "      <td>0.418026</td>\n",
       "      <td>0.364847</td>\n",
       "      <td>0.042362</td>\n",
       "      <td>0.240113</td>\n",
       "      <td>0.130720</td>\n",
       "      <td>-0.343165</td>\n",
       "      <td>-0.322852</td>\n",
       "      <td>-0.461611</td>\n",
       "      <td>0.073949</td>\n",
       "      <td>-0.027296</td>\n",
       "      <td>...</td>\n",
       "      <td>0.021700</td>\n",
       "      <td>0.298814</td>\n",
       "      <td>0.000417</td>\n",
       "      <td>0.330612</td>\n",
       "      <td>0.585598</td>\n",
       "      <td>0.210887</td>\n",
       "      <td>0.036463</td>\n",
       "      <td>-0.083972</td>\n",
       "      <td>-0.058733</td>\n",
       "      <td>0.191626</td>\n",
       "    </tr>\n",
       "    <tr>\n",
       "      <th>1255_g_at</th>\n",
       "      <td>0.018335</td>\n",
       "      <td>-0.022187</td>\n",
       "      <td>-0.115002</td>\n",
       "      <td>0.020611</td>\n",
       "      <td>-0.025980</td>\n",
       "      <td>0.090351</td>\n",
       "      <td>-0.019693</td>\n",
       "      <td>-0.088959</td>\n",
       "      <td>0.170104</td>\n",
       "      <td>-0.246015</td>\n",
       "      <td>...</td>\n",
       "      <td>-0.123951</td>\n",
       "      <td>0.017269</td>\n",
       "      <td>0.065775</td>\n",
       "      <td>0.025562</td>\n",
       "      <td>0.015776</td>\n",
       "      <td>0.108846</td>\n",
       "      <td>0.299192</td>\n",
       "      <td>0.041912</td>\n",
       "      <td>-0.028842</td>\n",
       "      <td>0.091189</td>\n",
       "    </tr>\n",
       "  </tbody>\n",
       "</table>\n",
       "<p>5 rows × 102 columns</p>\n",
       "</div>"
      ],
      "text/plain": [
       "            GSM25349.CEL.gz  GSM25350.CEL.gz  GSM25356.CEL.gz  \\\n",
       "Unnamed: 0                                                      \n",
       "1007_s_at          0.365059        -0.012149        -0.327827   \n",
       "1053_at           -0.136032        -0.257178        -0.027254   \n",
       "117_at            -0.490556        -0.530031        -0.232926   \n",
       "121_at             0.418026         0.364847         0.042362   \n",
       "1255_g_at          0.018335        -0.022187        -0.115002   \n",
       "\n",
       "            GSM25357.CEL.gz  GSM25358.CEL.gz  GSM25359.CEL.gz  \\\n",
       "Unnamed: 0                                                      \n",
       "1007_s_at         -0.116687        -0.170685        -0.220769   \n",
       "1053_at            0.347260         0.197144         0.053000   \n",
       "117_at            -0.337577        -0.262080        -0.540250   \n",
       "121_at             0.240113         0.130720        -0.343165   \n",
       "1255_g_at          0.020611        -0.025980         0.090351   \n",
       "\n",
       "            GSM25360.CEL.gz  GSM25361.CEL.gz  GSM25377.CEL.gz  \\\n",
       "Unnamed: 0                                                      \n",
       "1007_s_at         -0.211580        -0.198109        -0.035849   \n",
       "1053_at           -0.324497        -0.238930        -0.337195   \n",
       "117_at            -0.288228        -0.120475         1.085317   \n",
       "121_at            -0.322852        -0.461611         0.073949   \n",
       "1255_g_at         -0.019693        -0.088959         0.170104   \n",
       "\n",
       "            GSM25378.CEL.gz        ...         GSM48658.CEL.gz  \\\n",
       "Unnamed: 0                         ...                           \n",
       "1007_s_at          0.096327        ...                0.239554   \n",
       "1053_at            0.292678        ...               -0.008531   \n",
       "117_at             0.878655        ...               -0.003613   \n",
       "121_at            -0.027296        ...                0.021700   \n",
       "1255_g_at         -0.246015        ...               -0.123951   \n",
       "\n",
       "            GSM48660.CEL.gz  GSM48661.CEL.gz  GSM48662.CEL.gz  \\\n",
       "Unnamed: 0                                                      \n",
       "1007_s_at          0.296144         0.356331         0.608040   \n",
       "1053_at            0.311485        -0.667259         0.013964   \n",
       "117_at            -0.371451         0.026594        -0.659379   \n",
       "121_at             0.298814         0.000417         0.330612   \n",
       "1255_g_at          0.017269         0.065775         0.025562   \n",
       "\n",
       "            GSM48663.CEL.gz  GSM48664.CEL.gz  GSM48665.CEL.gz  \\\n",
       "Unnamed: 0                                                      \n",
       "1007_s_at         -0.280956         0.141330        -0.013254   \n",
       "1053_at            0.045706        -0.056219         0.080203   \n",
       "117_at            -0.328549         0.166231         0.012716   \n",
       "121_at             0.585598         0.210887         0.036463   \n",
       "1255_g_at          0.015776         0.108846         0.299192   \n",
       "\n",
       "            GSM136725.CEL.gz  GSM136726.CEL.gz  GSM136727.CEL.gz  \n",
       "Unnamed: 0                                                        \n",
       "1007_s_at           0.226624          0.547526         -0.128887  \n",
       "1053_at             0.442193          0.125379          0.205564  \n",
       "117_at             -0.356936         -0.366887         -0.202251  \n",
       "121_at             -0.083972         -0.058733          0.191626  \n",
       "1255_g_at           0.041912         -0.028842          0.091189  \n",
       "\n",
       "[5 rows x 102 columns]"
      ]
     },
     "execution_count": 12,
     "metadata": {},
     "output_type": "execute_result"
    }
   ],
   "source": [
    "#your code here\n",
    "meanexprsCEU = exprsCEU.mean(axis=1)\n",
    "normalizedexprCEU = exprsCEU.apply(lambda x: x - meanexprsCEU, axis=0)\n",
    "normalizedexprCEU.head()"
   ]
  },
  {
   "cell_type": "markdown",
   "metadata": {},
   "source": [
    "Compute the average gene expression intensity in the `exprsCEU` DataFrame across all the samples. For each sample in the `exprsCEU` DataFrame, subtract the average gene expression intensity from each of the samples. Show the head of the mean normalized gene expression data.  "
   ]
  },
  {
   "cell_type": "code",
   "execution_count": 13,
   "metadata": {},
   "outputs": [],
   "source": [
    "#your code here\n",
    "u, s, vh = np.linalg.svd(normalizedexprCEU)\n",
    "v = vh.T"
   ]
  },
  {
   "cell_type": "markdown",
   "metadata": {},
   "source": [
    "Using this mean normalized gene expression data, compute the projection to the first Principal Component (PC1).  \n",
    "\n",
    "**Hint**: Use the `numpy.linalg.svd()` function in the `numpy.linalg` module (or the `scipy.linalg.svd()` function in the `scipy.linalg` module) to apply an [singular value decomposition](http://en.wikipedia.org/wiki/Singular_value_decomposition) to a matrix.  "
   ]
  },
  {
   "cell_type": "code",
   "execution_count": 14,
   "metadata": {},
   "outputs": [
    {
     "data": {
      "text/plain": [
       "1.0000000000000002"
      ]
     },
     "execution_count": 14,
     "metadata": {},
     "output_type": "execute_result"
    }
   ],
   "source": [
    "#your code here\n",
    "a = np.array(a * a for a in u[:][1]).sum()\n",
    "np.sum(a)\n"
   ]
  },
  {
   "cell_type": "markdown",
   "metadata": {},
   "source": [
    "Create a histogram using the values from PC1.  Use a bin size of 25.  "
   ]
  },
  {
   "cell_type": "code",
   "execution_count": 15,
   "metadata": {
    "scrolled": false
   },
   "outputs": [
    {
     "data": {
      "text/plain": [
       "(array([ 2.,  0.,  2.,  3., 10.,  5.,  6.,  5.,  8.,  6.,  1.,  3.,  2.,\n",
       "         8.,  7.,  3.,  9.,  6.,  3.,  3.,  4.,  2.,  1.,  1.,  2.]),\n",
       " array([-0.19476468, -0.17820174, -0.1616388 , -0.14507587, -0.12851293,\n",
       "        -0.11194999, -0.09538705, -0.07882411, -0.06226117, -0.04569823,\n",
       "        -0.02913529, -0.01257235,  0.00399058,  0.02055352,  0.03711646,\n",
       "         0.0536794 ,  0.07024234,  0.08680528,  0.10336822,  0.11993116,\n",
       "         0.13649409,  0.15305703,  0.16961997,  0.18618291,  0.20274585,\n",
       "         0.21930879]),\n",
       " <a list of 25 Patch objects>)"
      ]
     },
     "execution_count": 15,
     "metadata": {},
     "output_type": "execute_result"
    },
    {
     "data": {
      "image/png": "[encoded data removed]",
      "text/plain": [
       "<matplotlib.figure.Figure at 0xbff4eb8>"
      ]
     },
     "metadata": {},
     "output_type": "display_data"
    }
   ],
   "source": [
    "#your code here\n",
    "plt.figure()\n",
    "plt.hist(v[:,0], bins=25)"
   ]
  },
  {
   "cell_type": "markdown",
   "metadata": {},
   "source": [
    "Create a scatter plot with the days since October 31, 2002 on the x-axis and PC1 on the y-axis."
   ]
  },
  {
   "cell_type": "code",
   "execution_count": 16,
   "metadata": {
    "scrolled": true
   },
   "outputs": [
    {
     "data": {
      "text/plain": [
       "<matplotlib.collections.PathCollection at 0xc180d68>"
      ]
     },
     "execution_count": 16,
     "metadata": {},
     "output_type": "execute_result"
    },
    {
     "data": {
      "image/png": "[encoded data removed]",
      "text/plain": [
       "<matplotlib.figure.Figure at 0xc2c51d0>"
      ]
     },
     "metadata": {},
     "output_type": "display_data"
    }
   ],
   "source": [
    "#your code here\n",
    "plt.figure()\n",
    "plt.scatter(sampleinfoCEU['date'], v[:,0])"
   ]
  },
  {
   "cell_type": "markdown",
   "metadata": {},
   "source": [
    "Around what day do you notice a difference in the way the samples were processed?"
   ]
  },
  {
   "cell_type": "code",
   "execution_count": 17,
   "metadata": {},
   "outputs": [],
   "source": [
    "#your code here"
   ]
  },
  {
   "cell_type": "markdown",
   "metadata": {},
   "source": [
    "Answer:"
   ]
  },
  {
   "cell_type": "markdown",
   "metadata": {},
   "source": [
    "## Discussion for Problem 1\n",
    "\n",
    "*Write a brief discussion of your conclusions to the questions and tasks above in 100 words or less.*\n",
    "\n",
    "---\n"
   ]
  },
  {
   "cell_type": "markdown",
   "metadata": {},
   "source": [
    "## Problem 2: Is there a pollster bias in presidential election polls?"
   ]
  },
  {
   "cell_type": "markdown",
   "metadata": {},
   "source": [
    "#### Problem 2(a)\n",
    "\n",
    "The [HuffPost Pollster](http://elections.huffingtonpost.com/pollster) contains many political polls. You can access these polls from individual races as a CSV but you can also access polls through the [HuffPost Pollster API](http://elections.huffingtonpost.com/pollster/api) to access the data.  \n",
    "\n",
    "Read in the polls from the [2012 Presidential Election: Barack Obama vs Mitt Romney](http://elections.huffingtonpost.com/pollster/2012-general-election-romney-vs-obama) into a pandas DataFrame called `election`. For this problem, you may read in the polls for this race directly using [the CSV file](http://elections.huffingtonpost.com/pollster/2012-general-election-romney-vs-obama.csv) available from the HuffPost Pollster page."
   ]
  },
  {
   "cell_type": "code",
   "execution_count": 31,
   "metadata": {
    "scrolled": true
   },
   "outputs": [
    {
     "data": {
      "text/html": [
       "<div>\n",
       "<style scoped>\n",
       "    .dataframe tbody tr th:only-of-type {\n",
       "        vertical-align: middle;\n",
       "    }\n",
       "\n",
       "    .dataframe tbody tr th {\n",
       "        vertical-align: top;\n",
       "    }\n",
       "\n",
       "    .dataframe thead th {\n",
       "        text-align: right;\n",
       "    }\n",
       "</style>\n",
       "<table border=\"1\" class=\"dataframe\">\n",
       "  <thead>\n",
       "    <tr style=\"text-align: right;\">\n",
       "      <th></th>\n",
       "      <th>Pollster</th>\n",
       "      <th>Start Date</th>\n",
       "      <th>End Date</th>\n",
       "      <th>Entry Date/Time (ET)</th>\n",
       "      <th>Number of Observations</th>\n",
       "      <th>Population</th>\n",
       "      <th>Mode</th>\n",
       "      <th>Obama</th>\n",
       "      <th>Romney</th>\n",
       "      <th>Undecided</th>\n",
       "      <th>Other</th>\n",
       "      <th>Pollster URL</th>\n",
       "      <th>Source URL</th>\n",
       "      <th>Partisan</th>\n",
       "      <th>Affiliation</th>\n",
       "      <th>Question Text</th>\n",
       "      <th>Question Iteration</th>\n",
       "    </tr>\n",
       "  </thead>\n",
       "  <tbody>\n",
       "    <tr>\n",
       "      <th>0</th>\n",
       "      <td>Politico/GWU/Battleground</td>\n",
       "      <td>2012-11-04</td>\n",
       "      <td>2012-11-05</td>\n",
       "      <td>2012-11-06T08:40:26Z</td>\n",
       "      <td>1000.0</td>\n",
       "      <td>Likely Voters</td>\n",
       "      <td>Live Phone</td>\n",
       "      <td>47.0</td>\n",
       "      <td>47.0</td>\n",
       "      <td>6.0</td>\n",
       "      <td>NaN</td>\n",
       "      <td>http://elections.huffingtonpost.com/pollster/p...</td>\n",
       "      <td>http://www.politico.com/news/stories/1112/8338...</td>\n",
       "      <td>Nonpartisan</td>\n",
       "      <td>None</td>\n",
       "      <td>NaN</td>\n",
       "      <td>1</td>\n",
       "    </tr>\n",
       "    <tr>\n",
       "      <th>1</th>\n",
       "      <td>YouGov/Economist</td>\n",
       "      <td>2012-11-03</td>\n",
       "      <td>2012-11-05</td>\n",
       "      <td>2012-11-26T15:31:23Z</td>\n",
       "      <td>740.0</td>\n",
       "      <td>Likely Voters</td>\n",
       "      <td>Internet</td>\n",
       "      <td>49.0</td>\n",
       "      <td>47.0</td>\n",
       "      <td>3.0</td>\n",
       "      <td>NaN</td>\n",
       "      <td>http://elections.huffingtonpost.com/pollster/p...</td>\n",
       "      <td>http://cdn.yougov.com/cumulus_uploads/document...</td>\n",
       "      <td>Nonpartisan</td>\n",
       "      <td>None</td>\n",
       "      <td>NaN</td>\n",
       "      <td>1</td>\n",
       "    </tr>\n",
       "    <tr>\n",
       "      <th>2</th>\n",
       "      <td>Gravis Marketing</td>\n",
       "      <td>2012-11-03</td>\n",
       "      <td>2012-11-05</td>\n",
       "      <td>2012-11-06T09:22:02Z</td>\n",
       "      <td>872.0</td>\n",
       "      <td>Likely Voters</td>\n",
       "      <td>Automated Phone</td>\n",
       "      <td>48.0</td>\n",
       "      <td>48.0</td>\n",
       "      <td>4.0</td>\n",
       "      <td>NaN</td>\n",
       "      <td>http://elections.huffingtonpost.com/pollster/p...</td>\n",
       "      <td>http://www.gravispolls.com/2012/11/gravis-mark...</td>\n",
       "      <td>Nonpartisan</td>\n",
       "      <td>None</td>\n",
       "      <td>NaN</td>\n",
       "      <td>1</td>\n",
       "    </tr>\n",
       "    <tr>\n",
       "      <th>3</th>\n",
       "      <td>IBD/TIPP</td>\n",
       "      <td>2012-11-03</td>\n",
       "      <td>2012-11-05</td>\n",
       "      <td>2012-11-06T08:51:48Z</td>\n",
       "      <td>712.0</td>\n",
       "      <td>Likely Voters</td>\n",
       "      <td>Live Phone</td>\n",
       "      <td>50.0</td>\n",
       "      <td>49.0</td>\n",
       "      <td>NaN</td>\n",
       "      <td>1.0</td>\n",
       "      <td>http://elections.huffingtonpost.com/pollster/p...</td>\n",
       "      <td>http://news.investors.com/special-report/50841...</td>\n",
       "      <td>Nonpartisan</td>\n",
       "      <td>None</td>\n",
       "      <td>NaN</td>\n",
       "      <td>1</td>\n",
       "    </tr>\n",
       "    <tr>\n",
       "      <th>4</th>\n",
       "      <td>Rasmussen</td>\n",
       "      <td>2012-11-03</td>\n",
       "      <td>2012-11-05</td>\n",
       "      <td>2012-11-06T08:47:50Z</td>\n",
       "      <td>1500.0</td>\n",
       "      <td>Likely Voters</td>\n",
       "      <td>Automated Phone</td>\n",
       "      <td>48.0</td>\n",
       "      <td>49.0</td>\n",
       "      <td>NaN</td>\n",
       "      <td>NaN</td>\n",
       "      <td>http://elections.huffingtonpost.com/pollster/p...</td>\n",
       "      <td>http://www.rasmussenreports.com/public_content...</td>\n",
       "      <td>Nonpartisan</td>\n",
       "      <td>None</td>\n",
       "      <td>NaN</td>\n",
       "      <td>1</td>\n",
       "    </tr>\n",
       "  </tbody>\n",
       "</table>\n",
       "</div>"
      ],
      "text/plain": [
       "                    Pollster  Start Date    End Date  Entry Date/Time (ET)  \\\n",
       "0  Politico/GWU/Battleground  2012-11-04  2012-11-05  2012-11-06T08:40:26Z   \n",
       "1           YouGov/Economist  2012-11-03  2012-11-05  2012-11-26T15:31:23Z   \n",
       "2           Gravis Marketing  2012-11-03  2012-11-05  2012-11-06T09:22:02Z   \n",
       "3                   IBD/TIPP  2012-11-03  2012-11-05  2012-11-06T08:51:48Z   \n",
       "4                  Rasmussen  2012-11-03  2012-11-05  2012-11-06T08:47:50Z   \n",
       "\n",
       "   Number of Observations     Population             Mode  Obama  Romney  \\\n",
       "0                  1000.0  Likely Voters       Live Phone   47.0    47.0   \n",
       "1                   740.0  Likely Voters         Internet   49.0    47.0   \n",
       "2                   872.0  Likely Voters  Automated Phone   48.0    48.0   \n",
       "3                   712.0  Likely Voters       Live Phone   50.0    49.0   \n",
       "4                  1500.0  Likely Voters  Automated Phone   48.0    49.0   \n",
       "\n",
       "   Undecided  Other                                       Pollster URL  \\\n",
       "0        6.0    NaN  http://elections.huffingtonpost.com/pollster/p...   \n",
       "1        3.0    NaN  http://elections.huffingtonpost.com/pollster/p...   \n",
       "2        4.0    NaN  http://elections.huffingtonpost.com/pollster/p...   \n",
       "3        NaN    1.0  http://elections.huffingtonpost.com/pollster/p...   \n",
       "4        NaN    NaN  http://elections.huffingtonpost.com/pollster/p...   \n",
       "\n",
       "                                          Source URL     Partisan Affiliation  \\\n",
       "0  http://www.politico.com/news/stories/1112/8338...  Nonpartisan        None   \n",
       "1  http://cdn.yougov.com/cumulus_uploads/document...  Nonpartisan        None   \n",
       "2  http://www.gravispolls.com/2012/11/gravis-mark...  Nonpartisan        None   \n",
       "3  http://news.investors.com/special-report/50841...  Nonpartisan        None   \n",
       "4  http://www.rasmussenreports.com/public_content...  Nonpartisan        None   \n",
       "\n",
       "   Question Text  Question Iteration  \n",
       "0            NaN                   1  \n",
       "1            NaN                   1  \n",
       "2            NaN                   1  \n",
       "3            NaN                   1  \n",
       "4            NaN                   1  "
      ]
     },
     "execution_count": 31,
     "metadata": {},
     "output_type": "execute_result"
    }
   ],
   "source": [
    "#your code here\n",
    "election = pd.read_csv('2012-general-election-romney-vs-obama.csv')\n",
    "election.head()"
   ]
  },
  {
   "cell_type": "markdown",
   "metadata": {},
   "source": [
    "Show the head of the `election` DataFrame. "
   ]
  },
  {
   "cell_type": "code",
   "execution_count": 33,
   "metadata": {},
   "outputs": [
    {
     "data": {
      "text/plain": [
       "44"
      ]
     },
     "execution_count": 33,
     "metadata": {},
     "output_type": "execute_result"
    }
   ],
   "source": [
    "#your code here\n",
    "from datetime import datetime\n",
    "def get_month(row):\n",
    "    row['Start Date'] = datetime.strptime(row['Start Date'], '%Y-%m-%d')\n",
    "    row['Month'] = row['Start Date'].month\n",
    "    return row\n",
    "election_month = election.apply(get_month, axis = 1)\n",
    "M = len(election_month[election_month['Month'] == 11])\n",
    "M"
   ]
  },
  {
   "cell_type": "markdown",
   "metadata": {},
   "source": [
    "How many polls were conducted in November? Define this number as M.  \n",
    "\n",
    "**Hint**: Subset the `election` DataFrame for only dates in the `Start Date` column that are in November 2012.  "
   ]
  },
  {
   "cell_type": "code",
   "execution_count": 16,
   "metadata": {},
   "outputs": [],
   "source": [
    "#your code here"
   ]
  },
  {
   "cell_type": "markdown",
   "metadata": {},
   "source": [
    "Answer:"
   ]
  },
  {
   "cell_type": "markdown",
   "metadata": {},
   "source": [
    "What was the median of the number of observations in the November polls? Define this quantity as N. "
   ]
  },
  {
   "cell_type": "code",
   "execution_count": 37,
   "metadata": {},
   "outputs": [
    {
     "data": {
      "text/plain": [
       "1000.0"
      ]
     },
     "execution_count": 37,
     "metadata": {},
     "output_type": "execute_result"
    }
   ],
   "source": [
    "#your code here\n",
    "november_poll = election_month[election_month['Month'] == 11]\n",
    "N = november_poll['Number of Observations'].median()\n",
    "N"
   ]
  },
  {
   "cell_type": "markdown",
   "metadata": {},
   "source": [
    "Answer: "
   ]
  },
  {
   "cell_type": "markdown",
   "metadata": {},
   "source": [
    "#### Problem 2(b)\n",
    "\n",
    "Using the median sample size $N$ from Problem 1(a), simulate the results from a single poll:  simulate the number of votes for Obama out of a sample size $N$ where $p$ = 0.53 is the percent of voters who are voting for Obama.  \n",
    "\n",
    "**Hint**: Use the binomial distribution with parameters $N$ and $p$ = 0.53. "
   ]
  },
  {
   "cell_type": "code",
   "execution_count": 60,
   "metadata": {},
   "outputs": [
    {
     "data": {
      "text/plain": [
       "1000"
      ]
     },
     "execution_count": 60,
     "metadata": {},
     "output_type": "execute_result"
    }
   ],
   "source": [
    "#your code here\n",
    "import numpy as np\n",
    "np.random.binomial(N, 0.53)\n",
    "int(N)"
   ]
  },
  {
   "cell_type": "markdown",
   "metadata": {},
   "source": [
    "Now, perform a Monte Carlo simulation to obtain the estimated percentage of Obama votes with a sample size $N$ where $N$ is the median sample size calculated in Problem 2(a). Let $p$=0.53 be the percent of voters are voting for Obama. \n",
    "\n",
    "**Hint**: You will repeat the simulation above 1,000 times and plot the distribution of the estimated *percent* of Obama votes from a single poll.  The results from the single poll you simulate is random variable and will be different every time you sample. "
   ]
  },
  {
   "cell_type": "code",
   "execution_count": 77,
   "metadata": {},
   "outputs": [
    {
     "data": {
      "text/plain": [
       "(array([  9.,  33., 105., 208., 223., 218., 118.,  69.,  14.,   3.]),\n",
       " array([422. , 432.1, 442.2, 452.3, 462.4, 472.5, 482.6, 492.7, 502.8,\n",
       "        512.9, 523. ]),\n",
       " <a list of 10 Patch objects>)"
      ]
     },
     "execution_count": 77,
     "metadata": {},
     "output_type": "execute_result"
    },
    {
     "data": {
      "image/png": "[encoded data removed]",
      "text/plain": [
       "<matplotlib.figure.Figure at 0x54f45240>"
      ]
     },
     "metadata": {},
     "output_type": "display_data"
    }
   ],
   "source": [
    "#your code here\n",
    "all = []\n",
    "for i in range(1000):\n",
    "    omaba = 0\n",
    "    for j in range(int(N)):\n",
    "        f = np.random.ranf()\n",
    "        if f > float(0.53):\n",
    "            obama = obama+1\n",
    "    all.append(obama)\n",
    "    obama = 0\n",
    "plt.hist(all, bins=10)"
   ]
  },
  {
   "cell_type": "markdown",
   "metadata": {},
   "source": [
    "Plot the distribution of the estimated percentage of Obama votes from your single poll. What is the distribution of the estimated percentage of Obama votes? "
   ]
  },
  {
   "cell_type": "code",
   "execution_count": 78,
   "metadata": {},
   "outputs": [
    {
     "ename": "SyntaxError",
     "evalue": "invalid syntax (<ipython-input-78-e446237f8d6e>, line 2)",
     "output_type": "error",
     "traceback": [
      "\u001b[1;36m  File \u001b[1;32m\"<ipython-input-78-e446237f8d6e>\"\u001b[1;36m, line \u001b[1;32m2\u001b[0m\n\u001b[1;33m    normal distribution\u001b[0m\n\u001b[1;37m                      ^\u001b[0m\n\u001b[1;31mSyntaxError\u001b[0m\u001b[1;31m:\u001b[0m invalid syntax\n"
     ]
    }
   ],
   "source": [
    "#your code here\n"
   ]
  },
  {
   "cell_type": "markdown",
   "metadata": {},
   "source": [
    "Answer: "
   ]
  },
  {
   "cell_type": "markdown",
   "metadata": {},
   "source": [
    "What is the standard error (SE) of the estimated percentage from the poll. \n",
    "\n",
    "**Hint**: Remember the SE is the standard deviation (SD) of the distribution of a random variable. "
   ]
  },
  {
   "cell_type": "code",
   "execution_count": 79,
   "metadata": {},
   "outputs": [
    {
     "data": {
      "text/plain": [
       "16.00206158593323"
      ]
     },
     "execution_count": 79,
     "metadata": {},
     "output_type": "execute_result"
    }
   ],
   "source": [
    "#your code here\n",
    "all = np.array(all)\n",
    "all.std()"
   ]
  },
  {
   "cell_type": "markdown",
   "metadata": {},
   "source": [
    "#### Problem 2(c)\n",
    "\n",
    "Now suppose we run M polls where M is the number of polls that happened in November (calculated in Problem 2(a)). Run 1,000 simulations and compute the mean of the M polls for each simulation. "
   ]
  },
  {
   "cell_type": "code",
   "execution_count": 81,
   "metadata": {},
   "outputs": [
    {
     "data": {
      "text/plain": [
       "(array([  7.,  23.,  62., 152., 233., 220., 166.,  99.,  31.,   7.]),\n",
       " array([420. , 429.7, 439.4, 449.1, 458.8, 468.5, 478.2, 487.9, 497.6,\n",
       "        507.3, 517. ]),\n",
       " <a list of 10 Patch objects>)"
      ]
     },
     "execution_count": 81,
     "metadata": {},
     "output_type": "execute_result"
    },
    {
     "data": {
      "image/png": "[encoded data removed]",
      "text/plain": [
       "<matplotlib.figure.Figure at 0x54d00160>"
      ]
     },
     "metadata": {},
     "output_type": "display_data"
    }
   ],
   "source": [
    "#your code here\n",
    "m_polls = []\n",
    "for i in range(1000):\n",
    "    omaba = 0\n",
    "    for j in range(int(N)):\n",
    "        f = np.random.ranf()\n",
    "        if f > float(0.53):\n",
    "            obama = obama+1\n",
    "    m_polls.append(obama)\n",
    "    obama = 0\n",
    "np.array(m_polls).std()\n",
    "plt.figure()\n",
    "plt.hist(m_polls)"
   ]
  },
  {
   "cell_type": "markdown",
   "metadata": {},
   "source": [
    "What is the distribution of the average of polls?\n",
    "\n",
    "**Hint**: Show a plot. "
   ]
  },
  {
   "cell_type": "code",
   "execution_count": 23,
   "metadata": {},
   "outputs": [],
   "source": [
    "#your code here"
   ]
  },
  {
   "cell_type": "markdown",
   "metadata": {},
   "source": [
    "Answer: "
   ]
  },
  {
   "cell_type": "markdown",
   "metadata": {},
   "source": [
    "What is the standard error (SE) of the average of polls? "
   ]
  },
  {
   "cell_type": "code",
   "execution_count": 24,
   "metadata": {},
   "outputs": [],
   "source": [
    "#your code here"
   ]
  },
  {
   "cell_type": "markdown",
   "metadata": {},
   "source": [
    "Answer: "
   ]
  },
  {
   "cell_type": "markdown",
   "metadata": {},
   "source": [
    "Is the SE of the average of polls larger, the same, or smaller than that the SD of a single poll (calculated in Problem 2(b))? By how much?\n",
    "\n",
    "**Hint**: Compute a ratio of the two quantities.  "
   ]
  },
  {
   "cell_type": "code",
   "execution_count": 25,
   "metadata": {},
   "outputs": [],
   "source": [
    "#your code here"
   ]
  },
  {
   "cell_type": "markdown",
   "metadata": {},
   "source": [
    "Answer: "
   ]
  },
  {
   "cell_type": "markdown",
   "metadata": {},
   "source": [
    "#### Problem 2(d) \n",
    "\n",
    "Repeat Problem 2(c) but now record the *across poll* standard deviation in each simulation. "
   ]
  },
  {
   "cell_type": "code",
   "execution_count": 26,
   "metadata": {},
   "outputs": [],
   "source": [
    "#your code here"
   ]
  },
  {
   "cell_type": "markdown",
   "metadata": {},
   "source": [
    "What is the distribution of the *across M polls* standard deviation?\n",
    "\n",
    "**Hint**: Show a plot. "
   ]
  },
  {
   "cell_type": "code",
   "execution_count": 27,
   "metadata": {},
   "outputs": [],
   "source": [
    "#your code here"
   ]
  },
  {
   "cell_type": "markdown",
   "metadata": {},
   "source": [
    "Answer: "
   ]
  },
  {
   "cell_type": "markdown",
   "metadata": {},
   "source": [
    "#### Problem 2(e) \n",
    "\n",
    "What is the standard deviation of M polls in our real (not simulated) 2012 presidential election data ? "
   ]
  },
  {
   "cell_type": "code",
   "execution_count": 28,
   "metadata": {},
   "outputs": [],
   "source": [
    "#your code here"
   ]
  },
  {
   "cell_type": "markdown",
   "metadata": {},
   "source": [
    "Is this larger, the same, or smaller than what we expeced if polls were not biased."
   ]
  },
  {
   "cell_type": "code",
   "execution_count": 29,
   "metadata": {},
   "outputs": [],
   "source": [
    "#your code here"
   ]
  },
  {
   "cell_type": "markdown",
   "metadata": {},
   "source": [
    "Answer: "
   ]
  },
  {
   "cell_type": "markdown",
   "metadata": {},
   "source": [
    "#### Problem 2(f)\n",
    "\n",
    "**For AC209 Students**: Learn about the normal approximation for the binomial distribution and derive the results of Problem 2(b) and 2(c) analytically (using this approximation). Compare the results obtained analytically to those obtained from simulations."
   ]
  },
  {
   "cell_type": "code",
   "execution_count": 30,
   "metadata": {},
   "outputs": [],
   "source": [
    "#your code here"
   ]
  },
  {
   "cell_type": "markdown",
   "metadata": {},
   "source": [
    "Answer: "
   ]
  },
  {
   "cell_type": "markdown",
   "metadata": {},
   "source": [
    "## Discussion for Problem 2\n",
    "\n",
    "*Write a brief discussion of your conclusions to the questions and tasks above in 100 words or less.*\n",
    "\n",
    "---\n"
   ]
  },
  {
   "cell_type": "markdown",
   "metadata": {},
   "source": [
    "## Problem 3: Is the average of polls better than just one poll?"
   ]
  },
  {
   "cell_type": "markdown",
   "metadata": {},
   "source": [
    "#### Problem 3(a)\n",
    "\n",
    "Most undecided voters vote for one of the two candidates at the election. Therefore, the reported percentages underestimate the final value of both candidates. However, if we assume the undecided will split evenly, then the observed difference should be an unbiased estimate of the final difference. \n",
    "\n",
    "Add a new column to the `election` DataFrame containg the difference between Obama and Romeny called `Diff`. "
   ]
  },
  {
   "cell_type": "code",
   "execution_count": 31,
   "metadata": {},
   "outputs": [],
   "source": [
    "#your code here"
   ]
  },
  {
   "cell_type": "markdown",
   "metadata": {},
   "source": [
    "#### Problem 3(b)\n",
    "\n",
    "Make a plot of the differences for the week before the election (e.g. 5 days) where the days are on the x-axis and the differences are on the y-axis.  Add a horizontal line showing 3.9%: the difference between Obama and Romney on election day."
   ]
  },
  {
   "cell_type": "code",
   "execution_count": 32,
   "metadata": {},
   "outputs": [],
   "source": [
    "#your code here"
   ]
  },
  {
   "cell_type": "markdown",
   "metadata": {},
   "source": [
    "#### Problem 3(c) \n",
    "\n",
    "Make a plot showing the differences by pollster where the pollsters are on the x-axis and the differences on the y-axis. "
   ]
  },
  {
   "cell_type": "code",
   "execution_count": 33,
   "metadata": {},
   "outputs": [],
   "source": [
    "#your code here"
   ]
  },
  {
   "cell_type": "markdown",
   "metadata": {},
   "source": [
    "Is the *across poll* difference larger than the *between pollster* difference? "
   ]
  },
  {
   "cell_type": "markdown",
   "metadata": {},
   "source": [
    "Answer: "
   ]
  },
  {
   "cell_type": "markdown",
   "metadata": {},
   "source": [
    "#### Problem 3(d)\n",
    "\n",
    "Take the average for each pollster and then compute the average of that. Given this difference how confident would you have been of an Obama victory?\n",
    "\n",
    "**Hint**: Compute an estimate of the SE of this average based exclusively on the observed data. "
   ]
  },
  {
   "cell_type": "code",
   "execution_count": 34,
   "metadata": {},
   "outputs": [],
   "source": [
    "#your code here"
   ]
  },
  {
   "cell_type": "markdown",
   "metadata": {},
   "source": [
    "Answer: "
   ]
  },
  {
   "cell_type": "markdown",
   "metadata": {},
   "source": [
    "#### Problem 3(e)\n",
    "\n",
    "**For AC209 Students**: Show the difference against time and see if you can detect a trend towards the end. Use this trend to see if it improves the final estimate."
   ]
  },
  {
   "cell_type": "code",
   "execution_count": 35,
   "metadata": {},
   "outputs": [],
   "source": [
    "#your code here"
   ]
  },
  {
   "cell_type": "markdown",
   "metadata": {},
   "source": [
    "Answer: "
   ]
  },
  {
   "cell_type": "markdown",
   "metadata": {},
   "source": [
    "## Discussion for Problem 3\n",
    "\n",
    "*Write a brief discussion of your conclusions to the questions and tasks above in 100 words or less.*\n",
    "\n",
    "---\n"
   ]
  },
  {
   "cell_type": "markdown",
   "metadata": {},
   "source": [
    "## Problem 4\n",
    "\n",
    "In this last problem, we will use the polls from the [2014 Senate Midterm Elections](http://elections.huffingtonpost.com/pollster) from the [HuffPost Pollster API](http://elections.huffingtonpost.com/pollster/api) to create a preliminary prediction of the result of each state. \n",
    "\n",
    "The HuffPost Pollster API allows you to access the data as a CSV or a JSON response by tacking \".csv\" or \".json\" at the end of the URLs. For example the 2012 Presidential Election could be accessed as a [.json](http://elections.huffingtonpost.com/pollster/2012-general-election-romney-vs-obama.json) instead of a [.csv](http://elections.huffingtonpost.com/pollster/2012-general-election-romney-vs-obama.csv)"
   ]
  },
  {
   "cell_type": "markdown",
   "metadata": {},
   "source": [
    "#### Problem 4(a)\n",
    "\n",
    "Read in the polls for **all** of the 2014 Senate Elections using the HuffPost API. For example, we can consider the [2014 Senate race in Kentucky between Mitch McConnell and Alison Grimes](http://elections.huffingtonpost.com/pollster/2014-kentucky-senate-mcconnell-vs-grimes). \n",
    "\n",
    "To search for the 2014 Senate races, use the `topics` parameter in the API [[read more about topics here](http://elections.huffingtonpost.com/pollster/api)].  "
   ]
  },
  {
   "cell_type": "code",
   "execution_count": 36,
   "metadata": {},
   "outputs": [],
   "source": [
    "url_str = \"http://elections.huffingtonpost.com/pollster/api/charts/?topic=2014-senate\""
   ]
  },
  {
   "cell_type": "markdown",
   "metadata": {},
   "source": [
    "To list all the URLs related to the 2014 Senate races using the pollster API, we can use a list comprehension:"
   ]
  },
  {
   "cell_type": "code",
   "execution_count": 37,
   "metadata": {},
   "outputs": [
    {
     "data": {
      "text/plain": [
       "[u'http://elections.huffingtonpost.com/pollster/2014-kentucky-senate-mcconnell-vs-grimes.csv',\n",
       " u'http://elections.huffingtonpost.com/pollster/2014-arkansas-senate-cotton-vs-pryor.csv',\n",
       " u'http://elections.huffingtonpost.com/pollster/2014-michigan-senate-land-vs-peters.csv',\n",
       " u'http://elections.huffingtonpost.com/pollster/2014-louisiana-senate-cassidy-vs-landrieu.csv',\n",
       " u'http://elections.huffingtonpost.com/pollster/2014-new-hampshire-senate-brown-vs-shaheen.csv',\n",
       " u'http://elections.huffingtonpost.com/pollster/2014-west-virginia-senate-capito-vs-tennant.csv',\n",
       " u'http://elections.huffingtonpost.com/pollster/2014-new-hampshire-senate-bass-vs-shaheen.csv',\n",
       " u'http://elections.huffingtonpost.com/pollster/2014-north-carolina-senate-tillis-vs-hagan.csv',\n",
       " u'http://elections.huffingtonpost.com/pollster/2014-virginia-senate-gillespie-vs-warner.csv',\n",
       " u'http://elections.huffingtonpost.com/pollster/2014-colorado-senate-gardner-vs-udall.csv',\n",
       " u'http://elections.huffingtonpost.com/pollster/2014-illinois-senate-oberweis-vs-durbin.csv',\n",
       " u'http://elections.huffingtonpost.com/pollster/2014-alaska-senate-sullivan-vs-begich.csv',\n",
       " u'http://elections.huffingtonpost.com/pollster/2014-iowa-senate-ernst-vs-braley.csv',\n",
       " u'http://elections.huffingtonpost.com/pollster/2014-mississippi-senate-cochran-vs-childers.csv',\n",
       " u'http://elections.huffingtonpost.com/pollster/2014-oregon-senate-wehby-vs-merkley.csv',\n",
       " u'http://elections.huffingtonpost.com/pollster/2014-georgia-senate-perdue-vs-nunn.csv',\n",
       " u'http://elections.huffingtonpost.com/pollster/2014-louisiana-senate-sasse-vs-domina.csv',\n",
       " u'http://elections.huffingtonpost.com/pollster/2014-south-dakota-senate-rounds-vs-weiland.csv',\n",
       " u'http://elections.huffingtonpost.com/pollster/2014-maine-senate-collins-vs-bellows.csv',\n",
       " u'http://elections.huffingtonpost.com/pollster/2014-minnesota-senate-mcfadden-vs-franken.csv',\n",
       " u'http://elections.huffingtonpost.com/pollster/2014-texas-senate-cornyn-vs-alameel.csv',\n",
       " u'http://elections.huffingtonpost.com/pollster/2014-south-carolina-senate-graham-vs-hutto.csv',\n",
       " u'http://elections.huffingtonpost.com/pollster/2014-south-carolina-senate-scott-vs-dickerson.csv',\n",
       " u'http://elections.huffingtonpost.com/pollster/2014-oklahoma-senate-inhofe-vs-silverstein.csv',\n",
       " u'http://elections.huffingtonpost.com/pollster/2014-new-mexico-senate-weh-vs-udall.csv',\n",
       " u'http://elections.huffingtonpost.com/pollster/2014-new-jersey-senate-bell-vs-booker.csv',\n",
       " u'http://elections.huffingtonpost.com/pollster/2014-idaho-senate-risch-vs-mitchell.csv',\n",
       " u'http://elections.huffingtonpost.com/pollster/2014-tennessee-senate-alexander-vs-ball.csv',\n",
       " u'http://elections.huffingtonpost.com/pollster/2014-wyoming-senate.csv',\n",
       " u'http://elections.huffingtonpost.com/pollster/2014-kansas-senate-roberts-vs-orman-vs-taylor.csv',\n",
       " u'http://elections.huffingtonpost.com/pollster/2014-hawaii-senate-cavasso-vs-schatz.csv',\n",
       " u'http://elections.huffingtonpost.com/pollster/2014-oklahoma-senate-lankford-vs-johnson.csv',\n",
       " u'http://elections.huffingtonpost.com/pollster/2014-montana-senate-daines-vs-curtis.csv',\n",
       " u'http://elections.huffingtonpost.com/pollster/2014-rhode-island-senate-zaccaria-vs-reed.csv',\n",
       " u'http://elections.huffingtonpost.com/pollster/2014-massachusetts-senate-herr-vs-markey.csv',\n",
       " u'http://elections.huffingtonpost.com/pollster/2014-delaware-senate-wade-vs-coons.csv']"
      ]
     },
     "execution_count": 37,
     "metadata": {},
     "output_type": "execute_result"
    }
   ],
   "source": [
    "election_urls = [election['url'] + '.csv' for election in requests.get(url_str).json()]\n",
    "election_urls"
   ]
  },
  {
   "cell_type": "markdown",
   "metadata": {},
   "source": [
    "Because there so many Senate races, we can create a dictionary of pandas DataFrames that will be keyed by the name of the election (a string). "
   ]
  },
  {
   "cell_type": "code",
   "execution_count": 38,
   "metadata": {},
   "outputs": [],
   "source": [
    "def build_frame(url):\n",
    "    \"\"\"\n",
    "    Returns a pandas DataFrame object containing\n",
    "    the data returned from the given url\n",
    "    \"\"\"\n",
    "    source = requests.get(url).text\n",
    "    \n",
    "    # Use StringIO because pd.DataFrame.from_csv requires .read() method\n",
    "    s = StringIO(source)\n",
    "    \n",
    "    return pd.DataFrame.from_csv(s, index_col=None).convert_objects(\n",
    "            convert_dates=\"coerce\", convert_numeric=True)"
   ]
  },
  {
   "cell_type": "code",
   "execution_count": 39,
   "metadata": {},
   "outputs": [],
   "source": [
    "# Makes a dictionary of pandas DataFrames keyed on election string.\n",
    "dfs = dict((election.split(\"/\")[-1][:-4], build_frame(election)) for election in election_urls)"
   ]
  },
  {
   "cell_type": "markdown",
   "metadata": {},
   "source": [
    "Show the head of the DataFrame containing the polls for the 2014 Senate race in Kentucky between McConnell and Grimes."
   ]
  },
  {
   "cell_type": "code",
   "execution_count": 40,
   "metadata": {},
   "outputs": [],
   "source": [
    "#your code here"
   ]
  },
  {
   "cell_type": "markdown",
   "metadata": {},
   "source": [
    "#### Problem 4(b)\n",
    "\n",
    "For each 2014 Senate race, create a preliminary prediction of the result for that state."
   ]
  },
  {
   "cell_type": "code",
   "execution_count": 42,
   "metadata": {},
   "outputs": [],
   "source": [
    "#your code here"
   ]
  },
  {
   "cell_type": "markdown",
   "metadata": {},
   "source": [
    "# Submission Instructions\n",
    "\n",
    "To submit your homework, create a folder named **lastname_firstinitial_hw#** and place your IPython notebooks, data files, and any other files in this folder. Your IPython Notebooks should be completely executed with the results visible in the notebook. We should not have to run any code.  Compress the folder (please use .zip compression) and submit to the CS109 dropbox in the appropriate folder. *If we cannot access your work because these directions are not followed correctly, we will not grade your work.*\n"
   ]
  },
  {
   "cell_type": "code",
   "execution_count": null,
   "metadata": {},
   "outputs": [],
   "source": []
  }
 ],
 "metadata": {
  "kernelspec": {
   "display_name": "Python 2",
   "language": "python",
   "name": "python2"
  },
  "language_info": {
   "codemirror_mode": {
    "name": "ipython",
    "version": 2
   },
   "file_extension": ".py",
   "mimetype": "text/x-python",
   "name": "python",
   "nbconvert_exporter": "python",
   "pygments_lexer": "ipython2",
   "version": "2.7.14"
  }
 },
 "nbformat": 4,
 "nbformat_minor": 1
}
